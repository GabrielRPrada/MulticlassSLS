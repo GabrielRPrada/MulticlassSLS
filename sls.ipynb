{
 "cells": [
  {
   "cell_type": "code",
   "execution_count": null,
   "metadata": {},
   "outputs": [],
   "source": [
    "import MultiSLS\n",
    "\n",
    "import numpy as np\n",
    "import matplotlib.pyplot as plt"
   ]
  },
  {
   "cell_type": "code",
   "execution_count": null,
   "metadata": {},
   "outputs": [],
   "source": [
    "gen = np.random.default_rng(None)\n",
    "\n",
    "n_amostras = 150\n",
    "\n",
    "rand = np.abs(gen.normal(loc=2.0, size=(n_amostras, 2)))"
   ]
  },
  {
   "cell_type": "code",
   "execution_count": null,
   "metadata": {},
   "outputs": [],
   "source": [
    "matrix2 = np.array([[1,0],[0,-1]])\n",
    "matrix3 = np.array([[-1,0],[0,1]])\n",
    "matrix4 = np.array([[-1,0],[0,-1]])\n",
    "\n",
    "x1 = rand\n",
    "x2 = rand.dot(matrix2)\n",
    "x3 = rand.dot(matrix3)\n",
    "x4 = rand.dot(matrix4)\n",
    "\n",
    "x = np.concatenate([x1, x2, x3, x4])\n",
    "c = [int(i // n_amostras) for i in range(n_amostras*4)]\n",
    "plt.scatter(x[:,0], x[:,1], c=c)\n",
    "plt.axhline(0,color='black')\n",
    "plt.axvline(0,color='black')"
   ]
  },
  {
   "cell_type": "code",
   "execution_count": null,
   "metadata": {},
   "outputs": [],
   "source": [
    "sls = MultiSLS.MultiClassSLS(n_lines=1)\n",
    "sls"
   ]
  },
  {
   "cell_type": "code",
   "execution_count": null,
   "metadata": {},
   "outputs": [],
   "source": [
    "lines = []\n",
    "for i in range(4):\n",
    "    segment = MultiSLS.LineSegment(np.random.rand(1, 2), np.random.rand(1,2))\n",
    "    lines.append(MultiSLS.LineSet([segment]))\n",
    "\n",
    "sls._set_lines(lines, list(range(4)))\n",
    "sls.train(x, c, max_iter=0)"
   ]
  },
  {
   "cell_type": "code",
   "execution_count": null,
   "metadata": {},
   "outputs": [],
   "source": [
    "fig = plt.figure()\n",
    "ax = fig.add_subplot(projection='3d')\n",
    "\n",
    "z = np.zeros((1, n_amostras*4))[0]\n",
    "ax.scatter(x[:,0], x[:,1], z, c=c)\n",
    "\n",
    "colors = plt.rcParams['axes.prop_cycle'].by_key()['color']\n",
    "\n",
    "ax.set_xlabel('X Label')\n",
    "ax.set_ylabel('Y Label')\n",
    "ax.set_zlabel('Z Label')\n",
    "\n",
    "adj_lines = [l.lines[0].as_tuple() for l in sls.lines.values()]\n",
    "for i, l in enumerate(adj_lines):\n",
    "    ax.plot([l[0][0],l[1][0]], [l[0][1],l[1][1]], [l[0][2],l[1][2]], color=colors[i])\n",
    "plt.show()"
   ]
  }
 ],
 "metadata": {
  "kernelspec": {
   "display_name": "Python 3",
   "language": "python",
   "name": "python3"
  },
  "language_info": {
   "codemirror_mode": {
    "name": "ipython",
    "version": 3
   },
   "file_extension": ".py",
   "mimetype": "text/x-python",
   "name": "python",
   "nbconvert_exporter": "python",
   "pygments_lexer": "ipython3",
   "version": "3.10.2"
  },
  "orig_nbformat": 4
 },
 "nbformat": 4,
 "nbformat_minor": 2
}
